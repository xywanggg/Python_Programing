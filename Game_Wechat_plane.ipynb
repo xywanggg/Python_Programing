{
 "cells": [
  {
   "cell_type": "code",
   "execution_count": 1,
   "metadata": {},
   "outputs": [
    {
     "name": "stdout",
     "output_type": "stream",
     "text": [
      "pygame 1.9.6\n",
      "Hello from the pygame community. https://www.pygame.org/contribute.html\n"
     ]
    }
   ],
   "source": [
    "import pygame\n",
    "from pygame.locals import*\n",
    "import time\n",
    "import random"
   ]
  },
  {
   "cell_type": "code",
   "execution_count": 9,
   "metadata": {},
   "outputs": [],
   "source": [
    "class Base(object):\n",
    "    '''总基类-飞机+子弹'''\n",
    "    def __init__(self,screen_temp,x,y,image_name):\n",
    "        self.x =x\n",
    "        self.y =y\n",
    "        self.screen = screen_temp\n",
    "        self.image = pygame.image.load(image_name)"
   ]
  },
  {
   "cell_type": "code",
   "execution_count": 10,
   "metadata": {},
   "outputs": [],
   "source": [
    "class BasePlane(object):\n",
    "    '''飞机-基类'''\n",
    "    def __init__(self,screen_temp,x,y,image_name):\n",
    "        Base.__init__(self,screen_temp,x,y,image_name)\n",
    "        self.bullet_list = []#存储发射出去的子弹对象\n",
    "\n",
    "    def display(self):\n",
    "        self.screen.blit(self.image,(self.x,self.y))\n",
    "\n",
    "        for bullet in self.bullet_list:\n",
    "            bullet.display()\n",
    "            bullet.move()\n",
    "            if bullet.judge():#判断子弹是否越界\n",
    "                self.bullet_list.remove(bullet)"
   ]
  },
  {
   "cell_type": "code",
   "execution_count": 11,
   "metadata": {},
   "outputs": [],
   "source": [
    "class HeroPlane(BasePlane):\n",
    "    '''玩家飞机的类'''\n",
    "    def __init__(self,screen_temp):\n",
    "        BasePlane.__init__(self,screen_temp,150,485,r\"c:\\Users\\xiaoy\\Desktop\\game\\plane.bmp\",) #super().__init__()\n",
    "\n",
    "    def move_left(self):\n",
    "        self.x -=6\n",
    "\n",
    "    def move_right(self):\n",
    "        self.x +=6\n",
    "\n",
    "    def move_up(self):\n",
    "        self.y -=6\n",
    "\n",
    "    def move_down(self):\n",
    "        self.y+=6\n",
    "\n",
    "    def fire(self):\n",
    "        self.bullet_list.append(Bullet(self.screen,self.x,self.y))"
   ]
  },
  {
   "cell_type": "code",
   "execution_count": 18,
   "metadata": {},
   "outputs": [],
   "source": [
    "class EnemyPlane(BasePlane):\n",
    "    '''敌机的类'''\n",
    "    def __init__(self,screen_temp):\n",
    "        BasePlane.__init__(self,screen_temp,0,5,r\"c:\\Users\\xiaoy\\Desktop\\game\\enemy_plane.bmp\")\n",
    "        self.direction = \"right\"#用来存储飞机默认的显示方向\n",
    "                \n",
    "    def move(self):\n",
    "        if self.direction==\"right\":\n",
    "            self.x+=5\n",
    "        elif self.direction==\"left\":\n",
    "            self.x-=5\n",
    "            \n",
    "        if self.x>280:\n",
    "            self.direction = \"left\"\n",
    "        elif self.x<0:\n",
    "            self.direction = \"right\"\n",
    "            \n",
    "    def fire(self):\n",
    "        random_num = random.randint(1,100)\n",
    "        if random_num == 8 or random_num == 70:\n",
    "            self.bullet_list.append(EnemyBullet(self.screen,self.x,self.y))"
   ]
  },
  {
   "cell_type": "code",
   "execution_count": 19,
   "metadata": {},
   "outputs": [],
   "source": [
    "class BaseBullet(object):\n",
    "    '''子弹-基类'''\n",
    "    def __init__(self,screen_temp,x,y,image_name):\n",
    "        Base.__init__(self,screen_temp,x,y,image_name)\n",
    "\n",
    "\n",
    "    def display(self):\n",
    "        self.screen.blit(self.image,(self.x,self.y))\n"
   ]
  },
  {
   "cell_type": "code",
   "execution_count": 20,
   "metadata": {},
   "outputs": [],
   "source": [
    "class Bullet(BaseBullet):\n",
    "    '''飞机子弹的类'''\n",
    "    def __init__(self,screen_temp,x,y):\n",
    "        BaseBullet.__init__(self,screen_temp,x+32,y-20,r\"c:\\Users\\xiaoy\\Desktop\\game\\bullet2.bmp\")\n",
    "\n",
    "    def move(self):\n",
    "        self.y -=9\n",
    "\n",
    "    def judge(self):\n",
    "        if self.y<5:\n",
    "            return True\n",
    "        else:\n",
    "            return False"
   ]
  },
  {
   "cell_type": "code",
   "execution_count": 21,
   "metadata": {},
   "outputs": [],
   "source": [
    "class EnemyBullet(BaseBullet):\n",
    "    '''敌机子弹的类'''\n",
    "    def __init__(self,screen_temp,x,y):\n",
    "        BaseBullet.__init__(self,screen_temp,x+26,y+30,r\"c:\\Users\\xiaoy\\Desktop\\game\\bullet.bmp\")\n",
    "\n",
    "    def move(self):\n",
    "        self.y +=9\n",
    "\n",
    "    def judge(self):\n",
    "        if self.y>590:\n",
    "            return True\n",
    "        else:\n",
    "            return False"
   ]
  },
  {
   "cell_type": "code",
   "execution_count": 22,
   "metadata": {},
   "outputs": [],
   "source": [
    "def key_control(hero_temp):\n",
    "    '''获取事件：按键'''\n",
    "    for event in pygame.event.get():\n",
    "\n",
    "        #判断是否是点击了退出键\n",
    "        if event.type == QUIT:\n",
    "            print(\"exit\")\n",
    "            exit()\n",
    "        #判断是否按下了键\n",
    "        elif event.type == KEYDOWN:\n",
    "            #检测是否是a或者left\n",
    "            if event.key == K_a or event.key == K_LEFT:\n",
    "                print(\"left\")\n",
    "                hero_temp.move_left()\n",
    "            #检测按键是否是d或者right\n",
    "            elif event.key == K_d or event.key == K_RIGHT:\n",
    "                print(\"right\")\n",
    "                hero_temp.move_right()\n",
    "            elif event.key == K_w or event.key == K_UP:\n",
    "                print(\"up\")\n",
    "                hero_temp.move_up()\n",
    "            elif event.key == K_s or event.key == K_DOWN:\n",
    "                print(\"down\")\n",
    "                hero_temp.move_down()\n",
    "            #检测按键是否是空格键\n",
    "            elif event.key == K_SPACE:\n",
    "                print(\"space\")\n",
    "                hero_temp.fire()"
   ]
  },
  {
   "cell_type": "code",
   "execution_count": null,
   "metadata": {},
   "outputs": [
    {
     "name": "stdout",
     "output_type": "stream",
     "text": [
      "left\n"
     ]
    }
   ],
   "source": [
    "def main():\n",
    "    #1.创建窗口\n",
    "    screen = pygame.display.set_mode((334,603),0,32)\n",
    "\n",
    "    #2.创建一个背景图片\n",
    "    background = pygame.image.load(r\"c:\\Users\\xiaoy\\Desktop\\game\\background.bmp\")\n",
    "\n",
    "    #3.创建一个飞机对象\n",
    "    hero = HeroPlane(screen)\n",
    "    #创建一个敌机\n",
    "    enemy = EnemyPlane(screen)\n",
    "    \n",
    "    while True:\n",
    "        screen.blit(background,(0,0))\n",
    "        hero.display()\n",
    "        enemy.display()\n",
    "        enemy.move() #调用敌机的移动方法\n",
    "        enemy.fire()#敌机开火\n",
    "        pygame.display.update()\n",
    "        key_control(hero)\n",
    "        time.sleep(0.01)\n",
    "\n",
    "if __name__==\"__main__\":\n",
    "    main()\n",
    "\n",
    "                              \n"
   ]
  }
 ],
 "metadata": {
  "kernelspec": {
   "display_name": "Python 3",
   "language": "python",
   "name": "python3"
  },
  "language_info": {
   "codemirror_mode": {
    "name": "ipython",
    "version": 3
   },
   "file_extension": ".py",
   "mimetype": "text/x-python",
   "name": "python",
   "nbconvert_exporter": "python",
   "pygments_lexer": "ipython3",
   "version": "3.7.6"
  },
  "latex_envs": {
   "LaTeX_envs_menu_present": true,
   "autoclose": false,
   "autocomplete": true,
   "bibliofile": "biblio.bib",
   "cite_by": "apalike",
   "current_citInitial": 1,
   "eqLabelWithNumbers": true,
   "eqNumInitial": 1,
   "hotkeys": {
    "equation": "Ctrl-E",
    "itemize": "Ctrl-I"
   },
   "labels_anchors": false,
   "latex_user_defs": false,
   "report_style_numbering": false,
   "user_envs_cfg": false
  },
  "toc": {
   "base_numbering": 1,
   "nav_menu": {},
   "number_sections": true,
   "sideBar": true,
   "skip_h1_title": false,
   "title_cell": "Table of Contents",
   "title_sidebar": "Contents",
   "toc_cell": false,
   "toc_position": {},
   "toc_section_display": true,
   "toc_window_display": false
  }
 },
 "nbformat": 4,
 "nbformat_minor": 2
}
